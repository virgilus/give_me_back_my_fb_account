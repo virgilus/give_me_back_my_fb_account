{
 "cells": [
  {
   "cell_type": "markdown",
   "metadata": {},
   "source": [
    "# Use this notebook to test stuff"
   ]
  },
  {
   "cell_type": "code",
   "execution_count": 1,
   "metadata": {},
   "outputs": [],
   "source": [
    "import sys\n",
    "sys.path.append('../')\n",
    "\n",
    "from givemeback import *\n",
    "import givemeback.tweeter_utils as tu\n",
    "import givemeback.mistral_utils as mu\n",
    "\n",
    "# response = mu.ask_mistral(p[1])"
   ]
  },
  {
   "cell_type": "code",
   "execution_count": 172,
   "metadata": {},
   "outputs": [
    {
     "data": {
      "text/plain": [
       "{0: \"< My facebook and Instagram account have been blocked without warnings, although I didn't do anything wrong with it. I've lost all my contacts and memories from the last 17 years. Write a tweet (no more than 280 characters) to Facebook to explain the problem. Mention @Facebook.\",\n",
       " 1: \"< My facebook account has been blocked for no reason. I had about 1500 friends and some of them live on a different continent. I'll be very happy to see them again. Write a tweet (no more than 280 characters) to Facebook to explain the problem. Mention @Facebook, @Instagram and @Meta.\",\n",
       " 2: '< My Instagram account has been has been blocked for no reason. I use my meta access to manage the accounts of my bands. How can I do it now I have no access? I did not violate any of Facebook or Instagram rules. Write a tweet (no more than 280 characters) to Facebook to explain the problem. Mention @Facebook.',\n",
       " 3: \"< My facebook and instagram accounts have been blocked although I did not violate rules. I want all people who experience the same issue to gather and join my discord server. Here's the link, https://discord.gg/NZQf2EUf Write a tweet to Facebook to encourage people to join my server.\",\n",
       " 4: '< My facebook and instagram accounts have been blocked although I did not violate any rules. I had some very important memories. Some of my friends have passed away since then and looking at pictures of them would make me feel better. Write a tweet to Facebook explain the problem. Mention @Facebook.',\n",
       " 5: \"< My facebook and instagram accounts have been blocked because I've created a new Instagram account and linked it to a page I manage. But the Instagram account is available while my Facebook account is not. Write a tweet to Facebook to explain the problem. Mention @Facebook and @Instagram.\",\n",
       " 6: \"< My facebook and instagram accounts have been blocked without warnings and I didn't do anything illegal or violate any rules. People can use this link to my discord channel https://discord.gg/NZQf2EUf so we can think about a way to get back our accounts.Write a tweet in order to do that.\"}"
      ]
     },
     "execution_count": 172,
     "metadata": {},
     "output_type": "execute_result"
    }
   ],
   "source": [
    "p"
   ]
  },
  {
   "cell_type": "code",
   "execution_count": 171,
   "metadata": {},
   "outputs": [
    {
     "data": {
      "text/plain": [
       "'< My Instagram account has been has been blocked for no reason. I use my meta access to manage the accounts of my bands. How can I do it now I have no access? I did not violate any of Facebook or Instagram rules. Write a tweet (no more than 280 characters) to Facebook to explain the problem. Mention @Facebook.'"
      ]
     },
     "execution_count": 171,
     "metadata": {},
     "output_type": "execute_result"
    }
   ],
   "source": [
    "from random import choice\n",
    "\n",
    "choice(p)"
   ]
  }
 ],
 "metadata": {
  "kernelspec": {
   "display_name": "giveme",
   "language": "python",
   "name": "python3"
  },
  "language_info": {
   "codemirror_mode": {
    "name": "ipython",
    "version": 3
   },
   "file_extension": ".py",
   "mimetype": "text/x-python",
   "name": "python",
   "nbconvert_exporter": "python",
   "pygments_lexer": "ipython3",
   "version": "3.12.6"
  }
 },
 "nbformat": 4,
 "nbformat_minor": 2
}
